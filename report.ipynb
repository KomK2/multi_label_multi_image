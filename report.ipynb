{
 "cells": [
  {
   "cell_type": "markdown",
   "id": "888152cf-b436-45f0-9c9b-791f4ec09294",
   "metadata": {},
   "source": [
    "## **Project Report**\n"
   ]
  },
  {
   "cell_type": "markdown",
   "id": "89fd4019-9688-488d-b5ad-f759a5f5471f",
   "metadata": {},
   "source": [
    "### **Introduction**\n"
   ]
  },
  {
   "cell_type": "markdown",
   "id": "30ae0b48-ca1e-4424-9de7-db9619f70dc4",
   "metadata": {},
   "source": [
    "This report describes a system built to detect and classify multiple geometric shapes (circles, squares, triangles) in synthetic images, each shape colored in red, green, or blue. Specifically, the goal is to:\n",
    "- Predict their type and color.\n",
    "- Scale easily to new shapes or colors without modifying the architecture.\n",
    "\n",
    "To address these goals, we use a two-step approach:\n",
    "- Faster R-CNN for bounding-box detection (locating each shape).\n",
    "- A label embedding–based CNN that classifies both the shape and color.\n",
    "\n",
    "Unlike a single hardcoded output layer (a fixed nine-class output), our embedding-based CNN separates shape and color classification into two flexible heads. Each head stores learnable embeddings for every shape or color label, making it easy to add more shapes or colors by simply extending the embedding matrix. This design scales seamlessly when new object types are introduced, requiring only dataset and embedding updates rather than fundamental architecture changes.\n",
    "\n"
   ]
  },
  {
   "cell_type": "markdown",
   "id": "d69ce7d2-1a0d-4fbb-9219-03baed41f669",
   "metadata": {},
   "source": [
    "### **Challenge Considerations**"
   ]
  },
  {
   "cell_type": "markdown",
   "id": "912b0f9c-f762-4800-8a22-3d4c4e82f58c",
   "metadata": {},
   "source": [
    "- No Direct Localization Labels: Since the CSV does not provide bounding boxes, any spatial information about shapes must be extracted at inference time. Our approach, discussed later, leverages a bounding-box detector (Faster R-CNN) to address this gap.\n",
    "\n",
    "- Multi-Label Classification: Each image can contain multiple shapes, each of which has a color. Our system must correctly identify all shape-color combinations.\n",
    "\n",
    "- Scalability: The dataset currently includes three shapes and three colors, but one core requirement is that the final architecture should scale seamlessly to new or additional shape and color classes (e.g., pentagon, yellow)."
   ]
  },
  {
   "cell_type": "markdown",
   "id": "808d5958-67f3-49a7-8048-6d913ac70bae",
   "metadata": {},
   "source": [
    "### **Data**"
   ]
  },
  {
   "cell_type": "markdown",
   "id": "4031370b-8f86-439c-a8dc-b34595a74bda",
   "metadata": {},
   "source": [
    "The dataset for this task comprises:\n",
    "- Image Files: Each image contains at least one and up to a configurable maximum number of shapes (circles, squares, or triangles), each rendered in one of three colors (red, blue, green).\n",
    "- Annotations CSV: For each image, the CSV provides:\n",
    "    - image_path: The filepath to the corresponding .png file.\n",
    "    - label: A Python-style list of (shape, color) tuples describing which shapes appear, e.g., [(\"square\", \"blue\"), (\"circle\", \"red\")]."
   ]
  },
  {
   "cell_type": "markdown",
   "id": "c271804f-d6f3-4243-8855-a711b4b73192",
   "metadata": {},
   "source": [
    "While the dataset is largely non-overlapping by design, a subset of images exhibits shapes that nearly or very subtly overlap. Specifically, these images carry IDs in:                                                         \n"
   ]
  },
  {
   "cell_type": "markdown",
   "id": "f37d1756-1037-4f21-a5b9-2e46eeda4340",
   "metadata": {},
   "source": [
    "{'40', '1655', '3145', '1168', '286', '148', '2652', \n",
    " '2321', '3331', '3533', '3716', '4408', '4883', '4965'}\n"
   ]
  },
  {
   "cell_type": "markdown",
   "id": "7dc9115a-125f-426d-a911-389439b8ca3b",
   "metadata": {},
   "source": [
    "Because tight overlaps could cause ambiguity in shape boundaries, these images were excluded from training and evaluation. This exclusion helps maintain a cleaner scenario for shape detection and classification."
   ]
  },
  {
   "cell_type": "markdown",
   "id": "1b79ac0f-5907-4a44-be4d-f2c946c5f887",
   "metadata": {},
   "source": [
    "### **Approach Overview**"
   ]
  },
  {
   "cell_type": "markdown",
   "id": "63b004c6-2182-4d76-807f-e3106a319b8b",
   "metadata": {},
   "source": [
    "Our solution uses a **two-stage pipeline** to detect and classify shapes, addressing the fact that the dataset provides only lists of `(shape, color)`—no bounding boxes. The process involves:\n",
    "\n",
    "1. **Faster R-CNN for Bounding Box Detection**  \n",
    "   - **Rationale**: We needed a robust, multi-object detector that could handle multiple shapes in a single image without explicit bounding-box labels. Faster R-CNN’s proposal mechanism suits moderate datasets (e.g., ~5K images) and easily accommodates new shape classes by adjusting its final layer.  \n",
    "   - We used HSV thresholding and contour approximation to generate bounding boxes for each `(shape, color)` described in the CSV. These bounding boxes, though approximate, were sufficient to fine-tune a COCO-pretrained Faster R-CNN for localizing shapes (triangle, square, circle).\n",
    "\n",
    "2. **Label Embedding–Based CNN for Shape & Color**  \n",
    "   - Rather than treat every `(shape, color)` combination as a single class (which would lock us into a fixed 3×3 setup), we built a CNN that has two learned embedding heads—one for shapes and one for colors. This design allows adding new shapes or colors without hardcoded output sizes.  \n",
    "   - At inference, each bounding box proposed by Faster R-CNN is cropped, resized, and passed into this CNN, which independently predicts the shape and color by producing separate logits for each category.\n",
    "\n",
    "3. **End-to-End Pipeline**  \n",
    "   - The final system first **detects** shapes with Faster R-CNN, then **classifies** each detected region’s shape and color with the embedding-based CNN, outputting a set of `(shape, color)` pairs per image. This two-stage structure offers both **scalability** (easy extension to new classes) and **robustness** (Faster R-CNN’s proven detection capabilities), neatly resolving the lack of direct bounding-box annotations in the original data.\n"
   ]
  },
  {
   "cell_type": "markdown",
   "id": "d6d619ad-4f03-45a3-96ea-ce67c7d0f145",
   "metadata": {},
   "source": [
    "### Implementation\n",
    "\n",
    "**Faster R-CNN Fine-Tuning**\n",
    "\n",
    "- **Pretrained Model:**  \n",
    "  We initialized `fasterrcnn_resnet50_fpn(pretrained=True)` from PyTorch, which is trained on COCO.\n",
    "\n",
    "- **Modified Head:**  \n",
    "  The original COCO classification head was replaced with a `FastRCNNPredictor` matching our shape classes plus one background class.\n",
    "\n",
    "- **Training Setup:**  \n",
    "  - Trained for two epochs on our synthetic dataset.\n",
    "  - Used Adam with a small learning rate (e.g., 0.0005).\n",
    "  - Ground-truth bounding boxes were derived from HSV-based contour detection.\n",
    "\n",
    "**Shape & Color Classification**\n",
    "\n",
    "- **Network Architecture:**\n",
    "\n",
    "   In the EmbeddingCNN model, instead of using a fixed-size linear layer (e.g., nn.Linear(64, 3) for shapes or colors), each label (shape or color) is represented by a learnable embedding vector. After the CNN produces a feature vector for a given image or patch, the similarity (dot product) with each label embedding becomes the logit for that label. This way, you don’t hardcode how many shapes or colors exist: adding new ones simply means adding rows to the embedding matrices (one for shapes, one for colors), without changing the architecture itself.\n",
    "\n",
    "  \n",
    "  We built a CNN feature extractor consisting of three convolutional layers with ReLU activations and max-pooling that flattens into a 64-dimensional vector. Two embedding-based heads then produce separate logits:\n",
    "  - **Shape Head:**  \n",
    "    Maps the feature vector to `num_shapes` logits (e.g., triangle, square, circle) using a learned embedding matrix.\n",
    "  - **Color Head:**  \n",
    "    Maps the feature vector to `num_colors` logits (e.g., red, green, blue) via its own learned embedding matrix.\n",
    "\n",
    "- **Training Procedure:**  \n",
    "  - Patches were cropped from the detected bounding-box regions and resized (e.g., 75×75).\n",
    "  - We treated shape and color classification as two distinct tasks, each with its own categorical label. By computing one cross-entropy loss for shape and another for color, we ensure that the network optimizes accuracy on both tasks simultaneously. Summing these losses means the model balances learning shape distinctions (triangle vs. square vs. circle) and color distinctions (red vs. blue vs. green), rather than prioritizing one over the other. This approach also maintains the flexibility of handling new shapes or colors without forcing them into a single combined output layer.\n",
    "  - Typically, seven epochs of training sufficed for good convergence.\n"
   ]
  },
  {
   "cell_type": "markdown",
   "id": "6639e068-45f0-4364-8bc5-9f5bd42bf88a",
   "metadata": {},
   "source": [
    "![Alt Text](./architecture.png)\n"
   ]
  },
  {
   "cell_type": "markdown",
   "id": "fe4c5e21-e548-4509-8903-f223bb27780d",
   "metadata": {},
   "source": [
    "### **Model Performance Analysis**"
   ]
  },
  {
   "cell_type": "markdown",
   "id": "a3926e6e-7b93-4f56-9c95-4ba0a88160d0",
   "metadata": {},
   "source": [
    "The model was trained over 7 epochs"
   ]
  },
  {
   "cell_type": "markdown",
   "id": "fa214421-1b25-4b37-9d33-2092c6ec6388",
   "metadata": {},
   "source": [
    "**Training Analytics**\n",
    "\n",
    "**Loss Trends**\n",
    "\n",
    "- **Train Loss:**  \n",
    "  Rapidly decreased from **0.5448** (Epoch 1) to **0.0003** (Epoch 7), indicating strong convergence.\n",
    "\n",
    "- **Validation Loss:**  \n",
    "  Similarly dropped from **0.2364** to **0.0002**, showing no signs of overfitting. The alignment between training and validation loss suggests robust generalization.\n",
    "\n",
    "- **Anomaly:**  \n",
    "  A slight spike in training loss at Epoch 5 (**0.0197**) and validation loss (**0.0035**) may indicate transient instability, possibly due to noisy samples, learning rate adjustments, or parameter updates.\n"
   ]
  },
  {
   "cell_type": "markdown",
   "id": "9b5cd758-cb20-4a67-9473-221ad8282cd5",
   "metadata": {},
   "source": [
    "![Alt Text](./train_val.jpeg)\n"
   ]
  },
  {
   "cell_type": "markdown",
   "id": "bac4f431-0be0-4390-88f2-a3d7b5e1a543",
   "metadata": {},
   "source": [
    "**Task-Specific Performance**\n",
    "\n",
    "**Color Classification**\n",
    "- **Performance:** Achieved perfect scores (Accuracy, F1, Jaccard = 1.0) from Epoch 1 onward.\n",
    "- The task is likely trivial for the model, suggesting the dataset’s color features are highly separable or the model prioritizes color learning early.\n",
    "\n",
    "**Shape Classification**\n",
    "- **Rapid Improvement:** Accuracy/F1 improved from approximately 0.96 (Epoch 1) to 1.0 (Epoch 3 onward).\n",
    "- **Jaccard Index:** Increased from 0.9194 (Epoch 1) to 1.0, indicating near-perfect segmentation/classification overlap.\n",
    "- **Critical Point:** By Epoch 3, the model achieved saturation, implying diminishing returns for additional training.\n"
   ]
  },
  {
   "cell_type": "markdown",
   "id": "037481ea-af87-436b-8cfc-97f12dd54d5a",
   "metadata": {},
   "source": [
    "![Alt Text](./f_score.jpeg)\n"
   ]
  },
  {
   "cell_type": "markdown",
   "id": "a27c5707-ede2-4975-9667-ba128f2b26e8",
   "metadata": {},
   "source": [
    "![Alt Text](./jaccard.jpeg)\n"
   ]
  },
  {
   "cell_type": "markdown",
   "id": "00fb08a4-6776-4749-9d55-968d8f79c8ce",
   "metadata": {},
   "source": [
    "**Evaluation Metrics and Interpretation**\n",
    "\n",
    "**Consistency Across Metrics**\n",
    "For both tasks, **Accuracy**, **F1**, and **Jaccard** scores align perfectly (e.g., 1.0 in later epochs). This suggests a lack of class imbalance or ambiguity in the validation set.\n",
    "\n",
    "> **Potential Concern**: Perfect scores may indicate an oversimplified validation set. Further testing on harder edge cases need to be checked.\n",
    "\n",
    "**Generalization**\n",
    "Validation metrics mirror training metrics (e.g., *Epoch 7: Train Loss = 0.0003 vs. Val Loss = 0.0002*), confirming the model’s reliability on unseen data.\n"
   ]
  },
  {
   "cell_type": "markdown",
   "id": "a2a718d7-d48f-42d1-924c-dccc5fe857ff",
   "metadata": {},
   "source": [
    "## Insights and Observations\n",
    "\n",
    "**Rapid Convergence**\n",
    "- The network’s loss dropped significantly within the first two or three epochs (e.g., from 0.54 to 0.0047 in just three epochs), and the validation metrics approached near-perfection by the 3rd epoch.\n",
    "- This quick convergence suggests high contrast, consistent coloring, and little variation in background, allowing the model to learn shape and color features very efficiently.\n",
    "\n",
    "**Minor Fluctuation at Epoch 5**\n",
    "- A small spike in training loss occurred at epoch 5 (0.0008 → 0.0197), accompanied by a slight but negligible dip in shape accuracy (from 100% down to ~99.92%). Transient increases like this can happen when the optimizer explores new parameter regions. Because validation performance remained extremely high, it did not indicate overfitting or instability—just a normal oscillation as the network continued to refine its weights.\n",
    "\n",
    "**Stable Plateau**\n",
    "- After epoch 5, both training and validation losses fell back to minimal levels (almost zero), and classification metrics returned to 100%.\n",
    "- The network effectively plateaued by epoch 6, achieving perfect (or near-perfect) performance for both shape and color classification.\n",
    "- This plateau suggests the model fully captured the relevant features.\n",
    "\n",
    "**Checkpoint Selection**\n",
    "- Given the sustained perfect metrics after epoch 3, any of the final epochs could serve as the final checkpoint.\n",
    "- In practice, the epoch 7 checkpoint was used for inference, ensuring that the small fluctuation observed at epoch 5 was well past and the model was thoroughly converged.\n",
    "\n",
    "**Synthetic Data Observations**\n",
    "- Because the dataset comprises synthetic images with clear shapes and colors, the classification task is relatively straightforward, leading to extremely high accuracy.\n",
    "- In a more complex real-world scenario (with noise, lighting changes, occlusion, etc.), we might see a slower convergence or less-than-perfect metrics.\n",
    "\n",
    "**Overall:**  \n",
    "The evaluation results confirm the effectiveness of the two-stage approach (bounding box detection + embedding-based classification) on these synthetic images. Despite the minor transient loss increase at epoch 5, the final model rapidly regained near-perfect performance, illustrating both the stability of the training process and the relative simplicity of the dataset.\n"
   ]
  },
  {
   "cell_type": "markdown",
   "id": "85eff57d-214e-48d6-bba4-a5789f7aa06c",
   "metadata": {},
   "source": [
    "### **Key Takeaways**\n",
    "\n",
    "\n",
    "- The model achieved near-perfect performance by Epoch 3, raising questions about whether 7 epochs were necessary. Early stopping at Epoch 3–4 could save computational resources.\n",
    "\n",
    "- The model demonstrates exceptional performance on both tasks, likely due to well-separated features and task simplicity.\n",
    "\n",
    "- Training stability and alignment between training/validation metrics suggest a well-regularized architecture."
   ]
  },
  {
   "cell_type": "markdown",
   "id": "07dbb5fc-62db-4a5c-9a85-15a8fedf2d88",
   "metadata": {},
   "source": [
    "### **Possible Improvement**\n",
    "\n",
    "Although the current two-step solution (**Faster R-CNN** for detection followed by an **embedding-based CNN** for shape/color classification) is effective, one potential enhancement would be to develop a **single unified model**. Such a model could directly process raw images and produce predictions in the desired CSV format without requiring explicit bounding-box generation or post-processing steps. In practice, this might involve:\n",
    "\n",
    "- **End-to-End Architecture**: Designing or adapting a multi-task network that learns both localization and classification jointly, thus streamlining the pipeline and potentially reducing inference latency and system complexity.\n",
    "\n",
    "- **Joint Loss Functions**: Incorporating separate objectives (e.g., bounding-box regression, shape classification, color classification) into a single end-to-end training process could yield better synergy between tasks.\n",
    "\n",
    "- **Reduced Engineering Overhead**: Eliminating the handover between two models would simplify deployment and maintenance, making the solution more robust and easier to update.\n",
    "\n",
    "While the current approach is effectively *“end-to-end”* in the sense that it automates shape detection and color classification, moving to a truly unified model would remove the need for a secondary classifier and might further improve performance if the network can leverage all relevant features in a single training loop.\n"
   ]
  },
  {
   "cell_type": "markdown",
   "id": "26287bd5-4c77-4734-9b36-33c569709dd1",
   "metadata": {},
   "source": [
    "### References"
   ]
  },
  {
   "cell_type": "markdown",
   "id": "7c364311",
   "metadata": {},
   "source": [
    "- https://www.youtube.com/watch?v=Xycec1paxOo&t=13s\n",
    "- https://www.youtube.com/watch?v=PPpKlPYL95c\n",
    "- https://www.reddit.com/r/deeplearning/comments/1amvyay/multilabel_image_classification_model_wherehow_to/?rdt=35386"
   ]
  },
  {
   "cell_type": "markdown",
   "id": "1097aed4-12c7-43db-8432-2df8b1c3cff9",
   "metadata": {},
   "source": [
    "### Github Link\n",
    "\n",
    "- https://github.com/KomK2/multi_label_multi_image.git ( Currently private , but will make public if asked)."
   ]
  },
  {
   "cell_type": "code",
   "execution_count": null,
   "id": "f5a024f5-6055-4057-ae85-d38f75cd8f5c",
   "metadata": {},
   "outputs": [],
   "source": []
  },
  {
   "cell_type": "markdown",
   "id": "6a1a0aa4-9f62-4500-bd68-3acb2ff24390",
   "metadata": {},
   "source": [
    "### Appendix: Code Implementation\n"
   ]
  },
  {
   "cell_type": "markdown",
   "id": "92071ccc-e124-469d-af16-319f26008f56",
   "metadata": {},
   "source": [
    "**Label Embedding CNN Architecture**\n"
   ]
  },
  {
   "cell_type": "code",
   "execution_count": null,
   "id": "759520d1-fb0e-41dd-bb8b-3831b8e2933c",
   "metadata": {},
   "outputs": [],
   "source": [
    "import torch\n",
    "import torch.nn as nn\n",
    "\n",
    "class LabelEmbeddingHead(nn.Module):\n",
    "    \"\"\"\n",
    "    A flexible 'head' that stores an embedding (dictionary) for each label (shape or color).\n",
    "    The final logits for each label come from dot products with the CNN feature vector.\n",
    "    \"\"\"\n",
    "    def __init__(self, num_labels: int, embed_dim: int):\n",
    "        super().__init__()\n",
    "        # shape: (num_labels, embed_dim)\n",
    "        self.label_embeddings = nn.Parameter(\n",
    "            torch.randn(num_labels, embed_dim)  # random init\n",
    "        )\n",
    "\n",
    "    def forward(self, features: torch.Tensor) -> torch.Tensor:\n",
    "        \"\"\"\n",
    "        features: [batch_size, embed_dim]\n",
    "        returns:  [batch_size, num_labels]\n",
    "        We do a matrix multiply of the form (B x E) x (E x L) -> (B x L).\n",
    "        \"\"\"\n",
    "        # Transpose label_embeddings to shape (embed_dim, num_labels)\n",
    "        return features @ self.label_embeddings.T\n",
    "\n",
    "class EmbeddingCNN(nn.Module):\n",
    "    \"\"\"\n",
    "    CNN feature extractor + label embedding heads for shapes and colors.\n",
    "    \"\"\"\n",
    "    def __init__(self, num_shapes: int, num_colors: int, embed_dim=64):\n",
    "        super().__init__()\n",
    "        self.conv_layers = nn.Sequential(\n",
    "            nn.Conv2d(3, 16, 3, padding=1),\n",
    "            nn.ReLU(),\n",
    "            nn.MaxPool2d(2),\n",
    "            nn.Conv2d(16, 32, 3, padding=1),\n",
    "            nn.ReLU(),\n",
    "            nn.MaxPool2d(2),\n",
    "            nn.Conv2d(32, 64, 3, padding=1),\n",
    "            nn.ReLU(),\n",
    "            nn.MaxPool2d(2),\n",
    "            nn.AdaptiveAvgPool2d((1, 1))  # final shape: [batch_size, 64, 1, 1]\n",
    "        )\n",
    "        self.embed_dim = embed_dim\n",
    "\n",
    "        self.shape_head = LabelEmbeddingHead(num_shapes, embed_dim)\n",
    "        self.color_head = LabelEmbeddingHead(num_colors, embed_dim)\n",
    "\n",
    "\n",
    "    def forward(self, x: torch.Tensor):\n",
    "        \"\"\"\n",
    "        x: [batch_size, 3, H, W]\n",
    "        returns: (shape_logits, color_logits)\n",
    "        \"\"\"\n",
    "        # 1) Extract CNN feature\n",
    "        features = self.conv_layers(x)                 # shape: [batch_size, 64, 1, 1]\n",
    "        features = features.view(features.size(0), -1) # shape: [batch_size, 64]\n",
    "\n",
    "        # 2) Dot product with the shape and color embeddings\n",
    "        shape_logits = self.shape_head(features)  # [batch_size, num_shapes]\n",
    "        color_logits = self.color_head(features)  # [batch_size, num_colors]\n",
    "\n",
    "        return shape_logits, color_logits\n"
   ]
  },
  {
   "cell_type": "markdown",
   "id": "9e486972-2833-4522-be05-d9a5a8d4f9ec",
   "metadata": {},
   "source": [
    "### Dataset class"
   ]
  },
  {
   "cell_type": "code",
   "execution_count": 21,
   "id": "5c062207-904d-4d88-8b0d-1b5fbb8d9ae3",
   "metadata": {},
   "outputs": [
    {
     "name": "stdout",
     "output_type": "stream",
     "text": [
      "Image: ('/home/kiran/projects/github/test/all-shapes-and-colors/dataset/train_dataset/img_4739.png',)\n",
      "Shape labels: []\n",
      "Color labels: []\n",
      "Image: ('/home/kiran/projects/github/test/all-shapes-and-colors/dataset/train_dataset/img_607.png',)\n",
      "Shape labels: [tensor([0])]\n",
      "Color labels: [tensor([1])]\n",
      "patch size torch.Size([1, 3, 75, 75])\n"
     ]
    },
    {
     "data": {
      "image/png": "[encoded data removed]",
      "text/plain": [
       "<Figure size 640x480 with 1 Axes>"
      ]
     },
     "metadata": {},
     "output_type": "display_data"
    },
    {
     "name": "stdout",
     "output_type": "stream",
     "text": [
      "Image: ('/home/kiran/projects/github/test/all-shapes-and-colors/dataset/train_dataset/img_857.png',)\n",
      "Shape labels: [tensor([1]), tensor([2])]\n",
      "Color labels: [tensor([2]), tensor([0])]\n",
      "patch size torch.Size([1, 3, 75, 75])\n"
     ]
    },
    {
     "data": {
      "image/png": "[encoded data removed]",
      "text/plain": [
       "<Figure size 640x480 with 1 Axes>"
      ]
     },
     "metadata": {},
     "output_type": "display_data"
    },
    {
     "name": "stdout",
     "output_type": "stream",
     "text": [
      "patch size torch.Size([1, 3, 75, 75])\n"
     ]
    },
    {
     "data": {
      "image/png": "[encoded data removed]",
      "text/plain": [
       "<Figure size 640x480 with 1 Axes>"
      ]
     },
     "metadata": {},
     "output_type": "display_data"
    }
   ],
   "source": [
    "import pandas as pd\n",
    "import ast\n",
    "import cv2\n",
    "import numpy as np\n",
    "from PIL import Image\n",
    "import torch\n",
    "from torch.utils.data import Dataset\n",
    "from torchvision import transforms\n",
    "from torch.utils.data import DataLoader\n",
    "import os\n",
    "import matplotlib.pyplot as plt\n",
    "\n",
    "class ShapesBoundingBoxDataset(Dataset):\n",
    "    def __init__(self, csv_file, dataset_dir, transform=None, area_threshold=100, use_matching=False):\n",
    "        \"\"\"\n",
    "        Args:\n",
    "            csv_file (str): Path to CSV file with columns: image_path, label.\n",
    "            dataset_dir (str): Directory where the images are stored.\n",
    "            transform (callable, optional): Transform to apply to each cropped patch.\n",
    "            area_threshold (int): Minimum area for a contour to be considered a shape.\n",
    "            use_matching (bool): (Unused in this approach)\n",
    "        \"\"\"\n",
    "        self.df = pd.read_csv(csv_file)\n",
    "        self.dataset_dir = dataset_dir\n",
    "\n",
    "        # Exclude specific images by number\n",
    "        excluded_ids = {'40', '1655', '3145', '1168', '286', '148', '2652', '2321', '3331', '3533', '3716', '4408', '4883', '4965'}\n",
    "        def is_excluded(image_path):\n",
    "            filename = os.path.splitext(os.path.basename(image_path))[0]\n",
    "            if filename.startswith(\"img_\"):\n",
    "                image_num = filename.split(\"_\")[1]\n",
    "                return image_num in excluded_ids\n",
    "            return False\n",
    "        self.df = self.df[~self.df['image_path'].apply(is_excluded)].reset_index(drop=True)\n",
    "\n",
    "        transform = transforms.Compose([\n",
    "            transforms.Resize((75, 75)),\n",
    "            transforms.ToTensor()\n",
    "        ])\n",
    "\n",
    "        self.transform = transform\n",
    "        self.area_threshold = area_threshold\n",
    "        self.use_matching = use_matching\n",
    "\n",
    "        self.color_ranges = {\n",
    "            'red': ((0, 100, 100), (10, 255, 255)),\n",
    "            'blue': ((100, 150, 0), (140, 255, 255)),\n",
    "            'green': ((40, 70, 70), (80, 255, 255))\n",
    "        }\n",
    "\n",
    "        self.shapes = [\"triangle\", \"square\", \"circle\"]\n",
    "        self.colors = [\"red\", \"blue\", \"green\"]\n",
    "        self.shape2idx = {s: i for i, s in enumerate(self.shapes)}\n",
    "        self.color2idx = {c: i for i, c in enumerate(self.colors)}\n",
    "\n",
    "    def detect_shape(self, contour):\n",
    "        approx = cv2.approxPolyDP(contour, 0.04 * cv2.arcLength(contour, True), True)\n",
    "        sides = len(approx)\n",
    "        if sides == 3:\n",
    "            return \"triangle\"\n",
    "        elif sides == 4:\n",
    "            return \"square\"\n",
    "        else:\n",
    "            return \"circle\"\n",
    "\n",
    "    def find_bounding_boxes(self, hsv, color_name):\n",
    "        lower, upper = self.color_ranges[color_name]\n",
    "        mask = cv2.inRange(hsv, lower, upper)\n",
    "        contours, _ = cv2.findContours(mask, cv2.RETR_EXTERNAL, cv2.CHAIN_APPROX_SIMPLE)\n",
    "        boxes = []\n",
    "        for contour in contours:\n",
    "            if cv2.contourArea(contour) > self.area_threshold:\n",
    "                shape = self.detect_shape(contour)\n",
    "                x, y, w, h = cv2.boundingRect(contour)\n",
    "                boxes.append({\n",
    "                    'box': (x, y, w, h),\n",
    "                    'detected_shape': shape,\n",
    "                    'color': color_name\n",
    "                })\n",
    "        return boxes\n",
    "\n",
    "    def __len__(self):\n",
    "        return len(self.df)\n",
    "\n",
    "    def __getitem__(self, idx):\n",
    "        row = self.df.iloc[idx]\n",
    "        rel_img_path = row[\"image_path\"]\n",
    "        img_path = os.path.join(self.dataset_dir, rel_img_path)\n",
    "\n",
    "        image_cv = cv2.imread(img_path)\n",
    "        if image_cv is None:\n",
    "            raise ValueError(f\"Image {img_path} not found\")\n",
    "        hsv = cv2.cvtColor(image_cv, cv2.COLOR_BGR2HSV)\n",
    "\n",
    "        detected_boxes = []\n",
    "        for color_name in self.color_ranges.keys():\n",
    "            boxes = self.find_bounding_boxes(hsv, color_name)\n",
    "            detected_boxes.extend(boxes)\n",
    "\n",
    "        label_str = row[\"label\"]\n",
    "        csv_labels = ast.literal_eval(label_str)\n",
    "        csv_labels = [(s.lower(), c.lower()) for s, c in csv_labels]\n",
    "\n",
    "        patches = []\n",
    "        shape_labels = []\n",
    "        color_labels = []\n",
    "        for csv_shape, csv_color in csv_labels:\n",
    "            match_found = False\n",
    "            for i, box_info in enumerate(detected_boxes):\n",
    "                if box_info['detected_shape'] == csv_shape and box_info['color'] == csv_color:\n",
    "                    match_found = True\n",
    "                    matched_box = detected_boxes.pop(i)\n",
    "                    x, y, w, h = matched_box['box']\n",
    "                    patch_cv = image_cv[y:y+h, x:x+w]\n",
    "                    patch_rgb = cv2.cvtColor(patch_cv, cv2.COLOR_BGR2RGB)\n",
    "                    patch_pil = Image.fromarray(patch_rgb)\n",
    "                    if self.transform:\n",
    "                        patch_pil = self.transform(patch_pil)\n",
    "                    patches.append(patch_pil)\n",
    "                    shape_labels.append(self.shape2idx[csv_shape])\n",
    "                    color_labels.append(self.color2idx[csv_color])\n",
    "                    break\n",
    "            if not match_found:\n",
    "                raise ValueError(f\"No matching detection for CSV label {(csv_shape, csv_color)} in image {img_path}\")\n",
    "\n",
    "        return patches, shape_labels, color_labels, img_path\n",
    "\n",
    "if __name__ == '__main__':\n",
    "    csv_file = \"/home/kiran/projects/github/test/all-shapes-and-colors/train.csv\"\n",
    "    dataset_dir = \"/home/kiran/projects/github/test/all-shapes-and-colors/dataset\"\n",
    "    transform = transforms.ToTensor()\n",
    "\n",
    "    dataset = ShapesBoundingBoxDataset(csv_file, dataset_dir, transform=transform)\n",
    "    dataloader = DataLoader(dataset, batch_size=1, shuffle=True)\n",
    "\n",
    "    for i, (patches, shape_labels, color_labels, img_path) in enumerate(dataloader):\n",
    "        print(f\"Image: {img_path}\")\n",
    "        print(f\"Shape labels: {shape_labels}\")\n",
    "        print(f\"Color labels: {color_labels}\")\n",
    "\n",
    "        for j, patch in enumerate(patches):\n",
    "            print(f\"patch size {patch.size()}\")\n",
    "            if isinstance(patch, torch.Tensor):\n",
    "                patch_np = patch.squeeze(0).permute(1, 2, 0).numpy()\n",
    "            else:\n",
    "                patch_np = np.array(patch)\n",
    "            plt.imshow(patch_np)\n",
    "            plt.title(f\"Patch {j} - Shape: {shape_labels[j]}, Color: {color_labels[j]}\")\n",
    "            plt.axis('off')\n",
    "            plt.show()\n",
    "\n",
    "        if i >= 2:\n",
    "            break\n"
   ]
  },
  {
   "cell_type": "markdown",
   "id": "fde0912c-03f3-40d3-bbca-f1d5c82c1172",
   "metadata": {},
   "source": [
    "### FastRCNN Dataset Class"
   ]
  },
  {
   "cell_type": "code",
   "execution_count": 22,
   "id": "055a22fe-3763-4a22-8970-d68535766cb1",
   "metadata": {},
   "outputs": [
    {
     "data": {
      "image/png": "[encoded data removed]",
      "text/plain": [
       "<Figure size 800x600 with 1 Axes>"
      ]
     },
     "metadata": {},
     "output_type": "display_data"
    },
    {
     "data": {
      "image/png": "[encoded data removed]",
      "text/plain": [
       "<Figure size 800x600 with 1 Axes>"
      ]
     },
     "metadata": {},
     "output_type": "display_data"
    },
    {
     "data": {
      "image/png": "[encoded data removed]",
      "text/plain": [
       "<Figure size 800x600 with 1 Axes>"
      ]
     },
     "metadata": {},
     "output_type": "display_data"
    },
    {
     "data": {
      "image/png": "[encoded data removed]",
      "text/plain": [
       "<Figure size 800x600 with 1 Axes>"
      ]
     },
     "metadata": {},
     "output_type": "display_data"
    },
    {
     "data": {
      "image/png": "[encoded data removed]",
      "text/plain": [
       "<Figure size 800x600 with 1 Axes>"
      ]
     },
     "metadata": {},
     "output_type": "display_data"
    },
    {
     "data": {
      "image/png": "[encoded data removed]",
      "text/plain": [
       "<Figure size 800x600 with 1 Axes>"
      ]
     },
     "metadata": {},
     "output_type": "display_data"
    },
    {
     "data": {
      "image/png": "[encoded data removed]",
      "text/plain": [
       "<Figure size 800x600 with 1 Axes>"
      ]
     },
     "metadata": {},
     "output_type": "display_data"
    },
    {
     "data": {
      "image/png": "[encoded data removed]",
      "text/plain": [
       "<Figure size 800x600 with 1 Axes>"
      ]
     },
     "metadata": {},
     "output_type": "display_data"
    }
   ],
   "source": [
    "from matplotlib import pyplot as plt\n",
    "import pandas as pd\n",
    "import ast\n",
    "import cv2\n",
    "import numpy as np\n",
    "import os\n",
    "import torch\n",
    "from torch.utils.data import Dataset\n",
    "from torchvision import transforms\n",
    "from PIL import Image\n",
    "import matplotlib.patches as patches\n",
    "\n",
    "\n",
    "class ShapesFRCNNDataset(Dataset):\n",
    "    def __init__(self, csv_file, dataset_dir, transform=None, area_threshold=100):\n",
    "        self.df = pd.read_csv(csv_file)\n",
    "        self.dataset_dir = dataset_dir\n",
    "        self.transform = transform if transform else transforms.ToTensor()\n",
    "        self.area_threshold = area_threshold\n",
    "\n",
    "        self.color_ranges = {\n",
    "            'red': ((0, 100, 100), (10, 255, 255)),\n",
    "            'blue': ((100, 150, 0), (140, 255, 255)),\n",
    "            'green': ((40, 70, 70), (80, 255, 255))\n",
    "        }\n",
    "\n",
    "        # Dynamically extract unique shape names\n",
    "        all_labels = self.df[\"label\"].apply(ast.literal_eval)\n",
    "        unique_shapes = sorted(list({s.lower() for row in all_labels for s, _ in row}))\n",
    "        self.shape_to_id = {s: i+1 for i, s in enumerate(unique_shapes)}  # 1-based class IDs\n",
    "\n",
    "    def __len__(self):\n",
    "        return len(self.df)\n",
    "\n",
    "    def detect_shape(self, contour):\n",
    "        approx = cv2.approxPolyDP(contour, 0.04 * cv2.arcLength(contour, True), True)\n",
    "        sides = len(approx)\n",
    "        if sides == 3:\n",
    "            return \"triangle\"\n",
    "        elif sides == 4:\n",
    "            return \"square\"\n",
    "        else:\n",
    "            return \"circle\"\n",
    "\n",
    "    def __getitem__(self, idx):\n",
    "        row = self.df.iloc[idx]\n",
    "        img_path = os.path.join(self.dataset_dir, row[\"image_path\"])\n",
    "        label_str = row[\"label\"]\n",
    "\n",
    "        image_bgr = cv2.imread(img_path)\n",
    "        if image_bgr is None:\n",
    "            raise FileNotFoundError(f\"Could not read image: {img_path}\")\n",
    "\n",
    "        hsv = cv2.cvtColor(image_bgr, cv2.COLOR_BGR2HSV)\n",
    "        gt_shape_color = [(s.lower(), c.lower()) for s, c in ast.literal_eval(label_str)]\n",
    "\n",
    "        boxes, labels = [], []\n",
    "\n",
    "        for color_name, (lower, upper) in self.color_ranges.items():\n",
    "            mask = cv2.inRange(hsv, np.array(lower), np.array(upper))\n",
    "            contours, _ = cv2.findContours(mask, cv2.RETR_EXTERNAL, cv2.CHAIN_APPROX_SIMPLE)\n",
    "            for contour in contours:\n",
    "                if cv2.contourArea(contour) < self.area_threshold:\n",
    "                    continue\n",
    "                detected_shape = self.detect_shape(contour)\n",
    "                if (detected_shape, color_name) in gt_shape_color:\n",
    "                    x, y, w, h = cv2.boundingRect(contour)\n",
    "                    boxes.append([x, y, x+w, y+h])\n",
    "                    labels.append(self.shape_to_id[detected_shape])\n",
    "\n",
    "        image_rgb = cv2.cvtColor(image_bgr, cv2.COLOR_BGR2RGB)\n",
    "        image_pil = Image.fromarray(image_rgb)\n",
    "        image_tensor = self.transform(image_pil)\n",
    "\n",
    "        return image_tensor, {\n",
    "            \"boxes\": torch.as_tensor(boxes, dtype=torch.float32),\n",
    "            \"labels\": torch.as_tensor(labels, dtype=torch.int64)\n",
    "        }\n",
    "\n",
    "\n",
    "if __name__ == '__main__':\n",
    "    csv_file = \"/home/kiran/projects/github/test/all-shapes-and-colors/train.csv\"\n",
    "    dataset_dir = \"/home/kiran/projects/github/test/all-shapes-and-colors/dataset\"\n",
    "    transform = transforms.ToTensor()\n",
    "\n",
    "    dataset = ShapesFRCNNDataset(csv_file=csv_file, dataset_dir=dataset_dir, transform=transform)\n",
    "\n",
    "    # Loop through a few samples to test dataset usage\n",
    "    for i in range(146,154):\n",
    "        image_tensor, target = dataset[i]\n",
    "        boxes = target[\"boxes\"].numpy()\n",
    "        labels = target[\"labels\"].numpy()\n",
    "\n",
    "        # Convert image tensor to numpy (H, W, C) for display\n",
    "        image_np = image_tensor.permute(1, 2, 0).numpy()\n",
    "\n",
    "        # Plot the image and overlay the bounding boxes\n",
    "        fig, ax = plt.subplots(1, figsize=(8, 6))\n",
    "        ax.imshow(image_np)\n",
    "        for box, label in zip(boxes, labels):\n",
    "            x1, y1, x2, y2 = box\n",
    "            rect = patches.Rectangle((x1, y1), x2 - x1, y2 - y1, linewidth=1, edgecolor='r', facecolor='none')\n",
    "            ax.add_patch(rect)\n",
    "            # ax.text(x1, y1 - 5, f\"Shape: {label}\", color='yellow', fontsize=12, weight='bold')\n",
    "        ax.set_title(f\"Sample {i} with Bounding Boxes\")\n",
    "        ax.axis('off')\n",
    "        plt.show()"
   ]
  },
  {
   "cell_type": "markdown",
   "id": "ad3ff28e-cd9c-42d2-a7d3-2c5b06c0f2eb",
   "metadata": {},
   "source": [
    "### Faster-RCNN workspace"
   ]
  },
  {
   "cell_type": "code",
   "execution_count": 24,
   "id": "637cf3f5-e9e4-4f16-9529-19727b6adc73",
   "metadata": {},
   "outputs": [
    {
     "name": "stderr",
     "output_type": "stream",
     "text": [
      "\u001b[34m\u001b[1mwandb\u001b[0m: Using wandb-core as the SDK backend.  Please refer to https://wandb.me/wandb-core for more information.\n",
      "\u001b[34m\u001b[1mwandb\u001b[0m: Currently logged in as: \u001b[33mksrikiran1\u001b[0m (\u001b[33mbmv-lab\u001b[0m). Use \u001b[1m`wandb login --relogin`\u001b[0m to force relogin\n"
     ]
    },
    {
     "data": {
      "text/html": [
       "Tracking run with wandb version 0.18.7"
      ],
      "text/plain": [
       "<IPython.core.display.HTML object>"
      ]
     },
     "metadata": {},
     "output_type": "display_data"
    },
    {
     "data": {
      "text/html": [
       "Run data is saved locally in <code>/home/kiran/projects/github/test/wandb/run-20250326_231932-2o5mq0nn</code>"
      ],
      "text/plain": [
       "<IPython.core.display.HTML object>"
      ]
     },
     "metadata": {},
     "output_type": "display_data"
    },
    {
     "data": {
      "text/html": [
       "Syncing run <strong><a href='https://wandb.ai/bmv-lab/bounding_box_project/runs/2o5mq0nn' target=\"_blank\">solar-sky-4</a></strong> to <a href='https://wandb.ai/bmv-lab/bounding_box_project' target=\"_blank\">Weights & Biases</a> (<a href='https://wandb.me/developer-guide' target=\"_blank\">docs</a>)<br/>"
      ],
      "text/plain": [
       "<IPython.core.display.HTML object>"
      ]
     },
     "metadata": {},
     "output_type": "display_data"
    },
    {
     "data": {
      "text/html": [
       " View project at <a href='https://wandb.ai/bmv-lab/bounding_box_project' target=\"_blank\">https://wandb.ai/bmv-lab/bounding_box_project</a>"
      ],
      "text/plain": [
       "<IPython.core.display.HTML object>"
      ]
     },
     "metadata": {},
     "output_type": "display_data"
    },
    {
     "data": {
      "text/html": [
       " View run at <a href='https://wandb.ai/bmv-lab/bounding_box_project/runs/2o5mq0nn' target=\"_blank\">https://wandb.ai/bmv-lab/bounding_box_project/runs/2o5mq0nn</a>"
      ],
      "text/plain": [
       "<IPython.core.display.HTML object>"
      ]
     },
     "metadata": {},
     "output_type": "display_data"
    },
    {
     "name": "stderr",
     "output_type": "stream",
     "text": [
      "/home/kiran/miniconda3/envs/kodiak/lib/python3.12/site-packages/torchvision/models/_utils.py:208: UserWarning: The parameter 'pretrained' is deprecated since 0.13 and may be removed in the future, please use 'weights' instead.\n",
      "  warnings.warn(\n",
      "/home/kiran/miniconda3/envs/kodiak/lib/python3.12/site-packages/torchvision/models/_utils.py:223: UserWarning: Arguments other than a weight enum or `None` for 'weights' are deprecated since 0.13 and may be removed in the future. The current behavior is equivalent to passing `weights=FasterRCNN_ResNet50_FPN_Weights.COCO_V1`. You can also use `weights=FasterRCNN_ResNet50_FPN_Weights.DEFAULT` to get the most up-to-date weights.\n",
      "  warnings.warn(msg)\n",
      "Epoch 1/10:   2%|█▍                                                                             | 19/1063 [00:08<07:31,  2.31it/s, loss=0.79]\n"
     ]
    },
    {
     "ename": "KeyboardInterrupt",
     "evalue": "",
     "output_type": "error",
     "traceback": [
      "\u001b[0;31m---------------------------------------------------------------------------\u001b[0m",
      "\u001b[0;31mKeyboardInterrupt\u001b[0m                         Traceback (most recent call last)",
      "Cell \u001b[0;32mIn[24], line 109\u001b[0m\n\u001b[1;32m    106\u001b[0m num_epochs \u001b[38;5;241m=\u001b[39m \u001b[38;5;241m10\u001b[39m\n\u001b[1;32m    107\u001b[0m output_dir \u001b[38;5;241m=\u001b[39m \u001b[38;5;124m\"\u001b[39m\u001b[38;5;124m/home/kiran/projects/github/test/bounding_box/outputs\u001b[39m\u001b[38;5;124m\"\u001b[39m\n\u001b[0;32m--> 109\u001b[0m train(model, train_loader, val_loader, device, optimizer, num_epochs, output_dir)\n",
      "Cell \u001b[0;32mIn[24], line 59\u001b[0m, in \u001b[0;36mtrain\u001b[0;34m(model, train_loader, val_loader, device, optimizer, num_epochs, output_dir)\u001b[0m\n\u001b[1;32m     56\u001b[0m losses\u001b[38;5;241m.\u001b[39mbackward()\n\u001b[1;32m     57\u001b[0m optimizer\u001b[38;5;241m.\u001b[39mstep()\n\u001b[0;32m---> 59\u001b[0m epoch_loss \u001b[38;5;241m+\u001b[39m\u001b[38;5;241m=\u001b[39m losses\u001b[38;5;241m.\u001b[39mitem()\n\u001b[1;32m     60\u001b[0m num_batches \u001b[38;5;241m+\u001b[39m\u001b[38;5;241m=\u001b[39m \u001b[38;5;241m1\u001b[39m\n\u001b[1;32m     61\u001b[0m progress_bar\u001b[38;5;241m.\u001b[39mset_postfix(loss\u001b[38;5;241m=\u001b[39mepoch_loss\u001b[38;5;241m/\u001b[39mnum_batches \u001b[38;5;28;01mif\u001b[39;00m num_batches \u001b[38;5;241m>\u001b[39m \u001b[38;5;241m0\u001b[39m \u001b[38;5;28;01melse\u001b[39;00m \u001b[38;5;241m0\u001b[39m)\n",
      "\u001b[0;31mKeyboardInterrupt\u001b[0m: "
     ]
    }
   ],
   "source": [
    "import torch\n",
    "import torchvision\n",
    "from torchvision.models.detection.faster_rcnn import FastRCNNPredictor\n",
    "from torch.utils.data import DataLoader, random_split\n",
    "from torchvision import transforms\n",
    "import torch.optim as optim\n",
    "from tqdm import tqdm\n",
    "import wandb\n",
    "\n",
    "from bounding_boxfast_rcnn_dataset import ShapesFRCNNDataset\n",
    "\n",
    "def collate_fn(batch):\n",
    "    filtered_batch = [item for item in batch if item[1][\"boxes\"].numel() > 0]\n",
    "    if len(filtered_batch) == 0:\n",
    "        return [], []\n",
    "    return tuple(zip(*filtered_batch))\n",
    "\n",
    "def get_model(num_classes):\n",
    "    model = torchvision.models.detection.fasterrcnn_resnet50_fpn(pretrained=True)\n",
    "    in_features = model.roi_heads.box_predictor.cls_score.in_features\n",
    "    model.roi_heads.box_predictor = FastRCNNPredictor(in_features, num_classes)\n",
    "    return model\n",
    "\n",
    "def validate(model, dataloader, device):\n",
    "    model.eval()\n",
    "    val_loss = 0.0\n",
    "    num_batches = 0\n",
    "    with torch.no_grad():\n",
    "        progress_bar = tqdm(dataloader, desc=\"Validation\", leave=False)\n",
    "        for images, targets in progress_bar:\n",
    "            if len(images) == 0:\n",
    "                continue\n",
    "            images = [img.to(device) for img in images]\n",
    "            targets = [{k: v.to(device) for k, v in t.items()} for t in targets]\n",
    "            loss_dict = model(images, targets)\n",
    "            losses = sum(loss for loss in loss_dict.values())\n",
    "            val_loss += losses.item()\n",
    "            num_batches += 1\n",
    "            progress_bar.set_postfix(loss=val_loss/num_batches if num_batches > 0 else 0)\n",
    "    return val_loss / num_batches if num_batches > 0 else None\n",
    "\n",
    "def train(model, train_loader, val_loader, device, optimizer, num_epochs, output_dir):\n",
    "    for epoch in range(num_epochs):\n",
    "        model.train()\n",
    "        epoch_loss = 0.0\n",
    "        num_batches = 0\n",
    "        progress_bar = tqdm(train_loader, desc=f\"Epoch {epoch+1}/{num_epochs}\")\n",
    "        for images, targets in progress_bar:\n",
    "            if len(images) == 0:\n",
    "                continue\n",
    "            images = [img.to(device) for img in images]\n",
    "            targets = [{k: v.to(device) for k, v in t.items()} for t in targets]\n",
    "            optimizer.zero_grad()\n",
    "            loss_dict = model(images, targets)\n",
    "            losses = sum(loss for loss in loss_dict.values())\n",
    "            losses.backward()\n",
    "            optimizer.step()\n",
    "\n",
    "            epoch_loss += losses.item()\n",
    "            num_batches += 1\n",
    "            progress_bar.set_postfix(loss=epoch_loss/num_batches if num_batches > 0 else 0)\n",
    "\n",
    "        # Save model checkpoint after every epoch\n",
    "        checkpoint_path = f\"{output_dir}/model_epoch_{epoch+1}.pth\"\n",
    "        torch.save(model.state_dict(), checkpoint_path)\n",
    "\n",
    "        avg_train_loss = epoch_loss/num_batches if num_batches > 0 else float('inf')\n",
    "        print(f\"Epoch {epoch+1}/{num_epochs}, Train Loss: {avg_train_loss:.4f}\")\n",
    "\n",
    "        # Run validation and log both train and validation loss to wandb\n",
    "        val_loss = validate(model, val_loader, device)\n",
    "        if val_loss is not None:\n",
    "            print(f\"Epoch {epoch+1}/{num_epochs}, Val Loss: {val_loss:.4f}\")\n",
    "        wandb.log({\"epoch\": epoch+1, \"train_loss\": avg_train_loss, \"val_loss\": val_loss})\n",
    "        \n",
    "\n",
    "\n",
    "if __name__ == '__main__':\n",
    "    device = torch.device(\"cuda\" if torch.cuda.is_available() else \"cpu\")\n",
    "    \n",
    "    # Initialize wandb for experiment tracking\n",
    "    wandb.init(project=\"bounding_box_project\")\n",
    "    \n",
    "    csv_file = \"/home/kiran/projects/github/test/all-shapes-and-colors/train.csv\"\n",
    "    dataset_dir = \"/home/kiran/projects/github/test/all-shapes-and-colors/dataset\"\n",
    "    transform = transforms.ToTensor()\n",
    "    \n",
    "    dataset = ShapesFRCNNDataset(csv_file, dataset_dir, transform=transform)\n",
    "    \n",
    "    # Split dataset: 85% training, 15% validation\n",
    "    train_size = int(0.85 * len(dataset))\n",
    "    val_size = len(dataset) - train_size\n",
    "    train_dataset, val_dataset = random_split(dataset, [train_size, val_size])\n",
    "    \n",
    "    train_loader = DataLoader(train_dataset, batch_size=4, shuffle=True, collate_fn=collate_fn)\n",
    "    val_loader = DataLoader(val_dataset, batch_size=4, shuffle=False, collate_fn=collate_fn)\n",
    "    \n",
    "    # Define number of classes (shapes + background)\n",
    "    num_shapes = len(dataset.shape_to_id)\n",
    "    num_classes = num_shapes + 1\n",
    "    \n",
    "    model = get_model(num_classes)\n",
    "    model.to(device)\n",
    "    \n",
    "    optimizer = optim.Adam(model.parameters(), lr=0.0005)\n",
    "    num_epochs = 10\n",
    "    output_dir = \"/home/kiran/projects/github/test/bounding_box/outputs\"\n",
    "    \n",
    "    train(model, train_loader, val_loader, device, optimizer, num_epochs, output_dir)\n"
   ]
  },
  {
   "cell_type": "markdown",
   "id": "f1ff9587-84d8-475d-b71a-01922252b1af",
   "metadata": {},
   "source": [
    "### CNN (Color + Shape Classifier)"
   ]
  },
  {
   "cell_type": "code",
   "execution_count": null,
   "id": "8dd1023e-f6e2-4a08-a2f3-a76f90df6a83",
   "metadata": {},
   "outputs": [],
   "source": [
    "import torch\n",
    "from dataset import ShapesBoundingBoxDataset  \n",
    "from model import DualHeadCNN  \n",
    "from torch.utils.data import DataLoader\n",
    "import torch.nn as nn\n",
    "import torch.optim as optim\n",
    "from torchvision import transforms\n",
    "from label_embedding import EmbeddingCNN\n",
    "\n",
    "# Custom collate function to handle batches with variable-sized data\n",
    "def custom_collate(batch):\n",
    "    # Filter out invalid samples (empty patches)\n",
    "    valid_samples = [sample for sample in batch if len(sample[0]) > 0]\n",
    "    \n",
    "    # If no valid samples, return empty tensors\n",
    "    if len(valid_samples) == 0:\n",
    "        empty_patches = torch.empty(0, 3, 75, 75)  \n",
    "        return empty_patches, torch.tensor([]), torch.tensor([])\n",
    "\n",
    "    # Aggregate patches, shape labels, and color labels from valid samples\n",
    "    all_patches = []\n",
    "    all_shape_labels = []\n",
    "    all_color_labels = []\n",
    "    for patches, shape_labels, color_labels, _ in valid_samples:\n",
    "        all_patches.extend(patches)\n",
    "        all_shape_labels.extend(shape_labels)\n",
    "        all_color_labels.extend(color_labels)\n",
    "    \n",
    "    # Convert lists to tensors\n",
    "    all_patches = torch.stack(all_patches)\n",
    "    all_shape_labels = torch.tensor(all_shape_labels)\n",
    "    all_color_labels = torch.tensor(all_color_labels)\n",
    "    \n",
    "    return all_patches, all_shape_labels, all_color_labels\n",
    "\n",
    "def main():\n",
    "    # Set device to GPU if available, otherwise CPU\n",
    "    device = torch.device(\"cuda\" if torch.cuda.is_available() else \"cpu\")\n",
    "\n",
    "    # Paths to dataset and CSV file\n",
    "    csv_file = \"/home/kiran/projects/github/test/all-shapes-and-colors/train.csv\"\n",
    "    dataset_dir = \"/home/kiran/projects/github/test/all-shapes-and-colors/dataset\"\n",
    "    transform = transforms.ToTensor()  # Transform to convert images to tensors\n",
    "\n",
    "    # Initialize the dataset\n",
    "    dataset = ShapesBoundingBoxDataset(csv_file, dataset_dir, transform=transform)\n",
    "\n",
    "    # Determine the number of shapes and colors from the dataset\n",
    "    num_shapes = len(dataset.shapes)  # e.g., [\"triangle\", \"square\", \"circle\"]\n",
    "    num_colors = len(dataset.colors)  # e.g., [\"red\", \"blue\", \"green\"]\n",
    "\n",
    "    # Create a data loader with the custom collate function\n",
    "    dataloader = DataLoader(dataset, batch_size=4, shuffle=True, collate_fn=custom_collate)\n",
    "\n",
    "    # Initialize the model with dynamic shape and color counts\n",
    "    model = EmbeddingCNN(num_shapes=num_shapes, num_colors=num_colors, embed_dim=64).to(device)\n",
    "\n",
    "    # Define optimizer and loss function\n",
    "    optimizer = optim.Adam(model.parameters(), lr=0.001)\n",
    "    criterion = nn.CrossEntropyLoss()\n",
    "\n",
    "    # Training loop\n",
    "    num_epochs = 10\n",
    "    for epoch in range(num_epochs):\n",
    "        epoch_loss = 0.0  # Track total loss for the epoch\n",
    "        count_samples = 0  # Track the number of processed samples\n",
    "\n",
    "        for patches, shape_labels, color_labels in dataloader:\n",
    "            # Skip empty batches\n",
    "            if patches.size(0) == 0:\n",
    "                continue\n",
    "\n",
    "            # Move data to the appropriate device\n",
    "            patches = patches.to(device)\n",
    "            shape_labels = shape_labels.to(device)\n",
    "            color_labels = color_labels.to(device)\n",
    "\n",
    "            # Zero the gradients\n",
    "            optimizer.zero_grad()\n",
    "\n",
    "            # Forward pass through the model\n",
    "            shape_logits, color_logits = model(patches)\n",
    "\n",
    "            # Compute losses for shape and color predictions\n",
    "            loss_shape = criterion(shape_logits, shape_labels)\n",
    "            loss_color = criterion(color_logits, color_labels)\n",
    "            loss = loss_shape + loss_color  # Total loss\n",
    "\n",
    "            # Backward pass and optimization step\n",
    "            loss.backward()\n",
    "            optimizer.step()\n",
    "\n",
    "            # Accumulate loss and sample count\n",
    "            epoch_loss += loss.item() * patches.size(0)\n",
    "            count_samples += patches.size(0)\n",
    "\n",
    "        # Compute average loss for the epoch\n",
    "        avg_loss = epoch_loss / count_samples if count_samples > 0 else 0.0\n",
    "        print(f\"Epoch {epoch+1}/{num_epochs}, Loss: {avg_loss:.4f}\")\n",
    "\n",
    "    # Save the trained model's state\n",
    "    torch.save(model.state_dict(), \"embedding_cnn.pth\")\n",
    "\n",
    "if __name__ == '__main__':\n",
    "    main()"
   ]
  },
  {
   "cell_type": "markdown",
   "id": "fc3dfda9-76b1-42ba-ab2d-a80f782aecaf",
   "metadata": {},
   "source": [
    "### Prediction Code (Combining Both the codes):"
   ]
  },
  {
   "cell_type": "code",
   "execution_count": null,
   "id": "8a6b4b34-7173-4f02-8f62-941c861938e9",
   "metadata": {},
   "outputs": [],
   "source": [
    "# Import necessary libraries\n",
    "import os\n",
    "import torch\n",
    "import torchvision\n",
    "from torchvision import transforms\n",
    "import numpy as np\n",
    "import pandas as pd\n",
    "from PIL import Image\n",
    "\n",
    "# Import custom modules\n",
    "from bounding_box.fast_rcnn_dataset import ShapesFRCNNDataset  \n",
    "from label_embedding import EmbeddingCNN \n",
    "from torchvision.models.detection.faster_rcnn import FastRCNNPredictor\n",
    "from dataset import ShapesBoundingBoxDataset  \n",
    "\n",
    "# Function to get the Faster R-CNN model with a custom number of classes\n",
    "def get_model(num_classes):\n",
    "    model = torchvision.models.detection.fasterrcnn_resnet50_fpn(pretrained=True)\n",
    "    in_features = model.roi_heads.box_predictor.cls_score.in_features\n",
    "    model.roi_heads.box_predictor = FastRCNNPredictor(in_features, num_classes)\n",
    "    return model\n",
    "\n",
    "# Define paths for training, testing, and dataset directories\n",
    "train_csv       = \"/home/kiran/projects/github/test/all-shapes-and-colors/train.csv\"\n",
    "test_csv        = \"/home/kiran/projects/github/test/all-shapes-and-colors/test.csv\"\n",
    "dataset_dir     = \"/home/kiran/projects/github/test/all-shapes-and-colors/dataset\"\n",
    "\n",
    "# Define paths for model checkpoints\n",
    "checkpoint_path = \"/home/kiran/projects/github/test/bounding_box/outputs/model_epoch_1.pth\"\n",
    "embedding_cnn_path  = \"embedding_cnn.pth\"\n",
    "\n",
    "# Set the device to GPU if available, otherwise CPU\n",
    "device = torch.device(\"cuda\" if torch.cuda.is_available() else \"cpu\")\n",
    "\n",
    "# Load the training dataset for Faster R-CNN\n",
    "train_dataset   = ShapesFRCNNDataset(train_csv, dataset_dir, transform=transforms.ToTensor())\n",
    "num_shapes      = len(train_dataset.shape_to_id)  # Number of shape classes in detection\n",
    "num_classes     = num_shapes + 1                  # +1 for background in Faster R-CNN\n",
    "\n",
    "# Load the detection model and its weights\n",
    "detection_model = get_model(num_classes)\n",
    "detection_model.load_state_dict(torch.load(checkpoint_path, map_location=device))\n",
    "detection_model.to(device)\n",
    "detection_model.eval()\n",
    "\n",
    "# Load the dummy dataset for classification\n",
    "dummy_dataset = ShapesBoundingBoxDataset(csv_file=train_csv, dataset_dir=dataset_dir)\n",
    "num_shapes_clf = len(dummy_dataset.shapes)  # Number of shape classes for classification\n",
    "num_colors_clf = len(dummy_dataset.colors)  # Number of color classes for classification\n",
    "\n",
    "# Load the classification model and its weights\n",
    "classification_model = EmbeddingCNN(\n",
    "    num_shapes=num_shapes_clf,\n",
    "    num_colors=num_colors_clf,\n",
    "    embed_dim=64\n",
    ").to(device)\n",
    "classification_model.load_state_dict(torch.load(embedding_cnn_path, map_location=device))\n",
    "classification_model.eval()\n",
    "\n",
    "# Define transformations for detection and classification\n",
    "detection_transform = transforms.ToTensor()\n",
    "classification_transform = transforms.Compose([\n",
    "    transforms.Resize((75, 75)),\n",
    "    transforms.ToTensor()\n",
    "])\n",
    "\n",
    "# Read the test dataset CSV\n",
    "test_df = pd.read_csv(test_csv)\n",
    "confidence_threshold = 0.5  # Confidence threshold for detection\n",
    "\n",
    "# Initialize a list to store predictions\n",
    "predictions_list = []\n",
    "\n",
    "# Iterate through each row in the test dataset\n",
    "for _, row in test_df.iterrows():\n",
    "    image_rel_path = row[\"image_path\"]  # Get the relative image path\n",
    "    image_path = os.path.join(dataset_dir, image_rel_path)  # Construct the full image path\n",
    "\n",
    "    # Load the image and convert it to RGB\n",
    "    image_pil = Image.open(image_path).convert(\"RGB\")\n",
    "    image_tensor = detection_transform(image_pil).to(device)\n",
    "\n",
    "    # Perform object detection\n",
    "    with torch.no_grad():\n",
    "        detection_output = detection_model([image_tensor])[0] \n",
    "    \n",
    "    # Extract bounding boxes, scores, and labels\n",
    "    boxes = detection_output[\"boxes\"].cpu().numpy()\n",
    "    scores = detection_output[\"scores\"].cpu().numpy()\n",
    "    labels = detection_output[\"labels\"].cpu().numpy()  \n",
    "    patches_list = []  # List to store cropped image patches\n",
    "    box_indices = []   # List to store indices of valid boxes\n",
    "\n",
    "    # Iterate through detected boxes and filter by confidence threshold\n",
    "    for i, (box, score) in enumerate(zip(boxes, scores)):\n",
    "        if score < confidence_threshold:\n",
    "            continue\n",
    "        x1, y1, x2, y2 = map(int, box)  # Get box coordinates\n",
    "        patch_pil = image_pil.crop((x1, y1, x2, y2))  # Crop the image patch\n",
    "        patch_tensor = classification_transform(patch_pil)  # Apply classification transform\n",
    "        patches_list.append(patch_tensor)\n",
    "        box_indices.append(i)\n",
    "\n",
    "    # If no valid patches, append an empty label and continue\n",
    "    if not patches_list:\n",
    "        predictions_list.append({\n",
    "            \"image_path\": image_rel_path,\n",
    "            \"label\": \"[]\"\n",
    "        })\n",
    "        continue\n",
    "\n",
    "    # Stack patches into a batch and perform classification\n",
    "    input_batch = torch.stack(patches_list).to(device)\n",
    "    with torch.no_grad():\n",
    "        shape_logits, color_logits = classification_model(input_batch)\n",
    "\n",
    "        # Get predicted shape and color indices\n",
    "        shape_preds = torch.argmax(shape_logits, dim=1).cpu().numpy()\n",
    "        color_preds = torch.argmax(color_logits, dim=1).cpu().numpy()\n",
    "\n",
    "    # Map indices to shape and color names\n",
    "    results = []\n",
    "    for shp_idx, clr_idx in zip(shape_preds, color_preds):\n",
    "        shp_name = dummy_dataset.shapes[shp_idx]\n",
    "        clr_name = dummy_dataset.colors[clr_idx]\n",
    "        results.append((shp_name, clr_name))\n",
    "\n",
    "    # Remove duplicate predictions\n",
    "    results = list(set(results))\n",
    "\n",
    "    # Append predictions to the list\n",
    "    predictions_list.append({\n",
    "        \"image_path\": image_rel_path,\n",
    "        \"label\": str(results)\n",
    "    })\n",
    "\n",
    "# Create a DataFrame from predictions and save to CSV\n",
    "submission_df = pd.DataFrame(predictions_list, columns=[\"image_path\", \"label\"])\n",
    "submission_df.to_csv(\"submission_2.csv\", index=False)\n",
    "print(\"Wrote predictions to submission_2.csv\")\n"
   ]
  },
  {
   "cell_type": "code",
   "execution_count": null,
   "id": "adb21d2a-5de2-46be-8287-2f2bf971364b",
   "metadata": {},
   "outputs": [],
   "source": []
  }
 ],
 "metadata": {
  "kernelspec": {
   "display_name": "Python 3 (ipykernel)",
   "language": "python",
   "name": "python3"
  },
  "language_info": {
   "codemirror_mode": {
    "name": "ipython",
    "version": 3
   },
   "file_extension": ".py",
   "mimetype": "text/x-python",
   "name": "python",
   "nbconvert_exporter": "python",
   "pygments_lexer": "ipython3",
   "version": "3.12.2"
  }
 },
 "nbformat": 4,
 "nbformat_minor": 5
}
